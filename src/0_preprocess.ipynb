{
 "cells": [
  {
   "cell_type": "code",
   "execution_count": 6,
   "id": "73a11c17",
   "metadata": {},
   "outputs": [],
   "source": [
    "import os\n",
    "import zipfile\n",
    "import re\n",
    "import csv\n",
    "import shutil\n",
    "\n",
    "from pathlib import Path"
   ]
  },
  {
   "cell_type": "code",
   "execution_count": 7,
   "id": "1f94bdc8",
   "metadata": {},
   "outputs": [],
   "source": [
    "def get_name_and_type(patch):\n",
    "    match = re.search(r'([A-Za-z\\s]+)\\s(\\d)\\b', patch)\n",
    "    if match:\n",
    "        name = match.group(1).strip()\n",
    "        type_ = match.group(2)\n",
    "        return name, type_\n",
    "    return None, None"
   ]
  },
  {
   "cell_type": "code",
   "execution_count": 8,
   "id": "3d6ecaa0",
   "metadata": {},
   "outputs": [],
   "source": [
    "raw_dir   = Path(\"../patches/raw\")\n",
    "temp_dir  = Path(\"../patches/temp\")\n",
    "clean_dir = Path(\"../patches/clean\")\n",
    "\n",
    "clean_dir.mkdir(parents=True, exist_ok=True)"
   ]
  },
  {
   "cell_type": "code",
   "execution_count": 9,
   "id": "989602c2",
   "metadata": {},
   "outputs": [],
   "source": [
    "for raw_file in raw_dir.glob(\"*.mfprojz\"):\n",
    "\n",
    "    patch_temp_dir = temp_dir / raw_file.stem\n",
    "    patch_temp_dir.mkdir(parents=True, exist_ok=True)\n",
    "    with zipfile.ZipFile(raw_file, 'r') as zip_ref:\n",
    "        zip_ref.extractall(patch_temp_dir)\n",
    "\n",
    "    mbp_files = list(patch_temp_dir.rglob(\"*.mbp\"))\n",
    "    rows = []\n",
    "    for mbp_file in mbp_files:\n",
    "        with open(mbp_file, \"r\") as f:\n",
    "            content = f.read()\n",
    "            name, type_ = get_name_and_type(content)\n",
    "            if name and type_:\n",
    "                rel_path = str(mbp_file.relative_to(temp_dir))\n",
    "                rows.append([name, type_, rel_path])\n",
    "\n",
    "    csv_path = clean_dir / (raw_file.stem + \".csv\")\n",
    "    with open(csv_path, \"w\", newline=\"\") as csvfile:\n",
    "        writer = csv.writer(csvfile)\n",
    "        writer.writerow([\"patch_name\", \"patch_type\", \"path\"])\n",
    "        writer.writerows(rows)"
   ]
  }
 ],
 "metadata": {
  "kernelspec": {
   "display_name": ".venv",
   "language": "python",
   "name": "python3"
  },
  "language_info": {
   "codemirror_mode": {
    "name": "ipython",
    "version": 3
   },
   "file_extension": ".py",
   "mimetype": "text/x-python",
   "name": "python",
   "nbconvert_exporter": "python",
   "pygments_lexer": "ipython3",
   "version": "3.10.18"
  }
 },
 "nbformat": 4,
 "nbformat_minor": 5
}
