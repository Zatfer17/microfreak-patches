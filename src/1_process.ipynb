{
 "cells": [
  {
   "cell_type": "code",
   "execution_count": 2,
   "id": "fd8bc6a7",
   "metadata": {},
   "outputs": [],
   "source": [
    "import pandas as pd\n",
    "\n",
    "from pathlib import Path"
   ]
  },
  {
   "cell_type": "code",
   "execution_count": 3,
   "id": "6b38f39a",
   "metadata": {},
   "outputs": [],
   "source": [
    "types = {\n",
    "    0: \"Bass\",\n",
    "    1: \"Brass\",\n",
    "    2: \"Keys\",\n",
    "    3: \"Lead\",\n",
    "    4: \"Organ\",\n",
    "    5: \"Pad\",\n",
    "    6: \"Percussion\",\n",
    "    7: \"Sequence\",\n",
    "    8: \"SFX\",\n",
    "    9: \"Strings\"\n",
    "}"
   ]
  },
  {
   "cell_type": "code",
   "execution_count": 4,
   "id": "24405721",
   "metadata": {},
   "outputs": [],
   "source": [
    "types_short = {\n",
    "    0: \"BS\",\n",
    "    1: \"BR\",\n",
    "    2: \"KS\",\n",
    "    3: \"LD\",\n",
    "    4: \"OR\",\n",
    "    5: \"PD\",\n",
    "    6: \"DR\",\n",
    "    7: \"SQ\",\n",
    "    8: \"FX\",\n",
    "    9: \"ST\"\n",
    "}"
   ]
  },
  {
   "cell_type": "code",
   "execution_count": 5,
   "id": "21e66c2d",
   "metadata": {},
   "outputs": [],
   "source": [
    "selection = [\n",
    "    \"Bass\",\n",
    "    \"Brass\",\n",
    "    \"Keys\",\n",
    "    \"Lead\",\n",
    "    \"Organ\",\n",
    "    \"Pad\",\n",
    "    \"SFX\",\n",
    "    \"Strings\",\n",
    "]"
   ]
  },
  {
   "cell_type": "code",
   "execution_count": 6,
   "id": "0bcead74",
   "metadata": {},
   "outputs": [],
   "source": [
    "clean_dir = Path(\"../patches/clean\")"
   ]
  },
  {
   "cell_type": "code",
   "execution_count": 7,
   "id": "ee9cd1f2",
   "metadata": {},
   "outputs": [],
   "source": [
    "patches = []\n",
    "\n",
    "for clean_file in clean_dir.glob(\"*.csv\"):\n",
    "\n",
    "    patch = pd.read_csv(clean_file)\n",
    "    patch[\"bank_name\"] = clean_file.stem\n",
    "\n",
    "    patch = patch[[\n",
    "        \"bank_name\",\n",
    "        \"patch_name\",\n",
    "        \"patch_type\",\n",
    "        \"path\"\n",
    "    ]]\n",
    "\n",
    "    patch = patch[patch[\"patch_name\"] != \"Init\"]\n",
    "\n",
    "    patches.append(patch)"
   ]
  },
  {
   "cell_type": "code",
   "execution_count": 8,
   "id": "6b548343",
   "metadata": {},
   "outputs": [],
   "source": [
    "patches = pd.concat(patches)\n",
    "patches = patches.drop_duplicates(subset=[\"bank_name\", \"patch_name\", \"patch_type\"])\n",
    "patches = patches.reset_index(drop=True)"
   ]
  },
  {
   "cell_type": "code",
   "execution_count": 9,
   "id": "8c1d2a2d",
   "metadata": {},
   "outputs": [],
   "source": [
    "patches[\"patch_type_short\"]  = patches[\"patch_type\"].map(types_short)\n",
    "patches[\"patch_type\"]        = patches[\"patch_type\"].map(types)"
   ]
  },
  {
   "cell_type": "code",
   "execution_count": 10,
   "id": "2949e5af",
   "metadata": {},
   "outputs": [],
   "source": [
    "patches = patches[patches.patch_type.isin(selection)]"
   ]
  },
  {
   "cell_type": "code",
   "execution_count": 12,
   "id": "5d8a0587",
   "metadata": {},
   "outputs": [
    {
     "data": {
      "text/plain": [
       "patch_type\n",
       "Pad        251\n",
       "Bass       236\n",
       "Keys       207\n",
       "Lead       156\n",
       "SFX        122\n",
       "Strings     29\n",
       "Brass       19\n",
       "Organ       16\n",
       "Name: count, dtype: int64"
      ]
     },
     "execution_count": 12,
     "metadata": {},
     "output_type": "execute_result"
    }
   ],
   "source": [
    "patches.patch_type.value_counts()"
   ]
  }
 ],
 "metadata": {
  "kernelspec": {
   "display_name": ".venv",
   "language": "python",
   "name": "python3"
  },
  "language_info": {
   "codemirror_mode": {
    "name": "ipython",
    "version": 3
   },
   "file_extension": ".py",
   "mimetype": "text/x-python",
   "name": "python",
   "nbconvert_exporter": "python",
   "pygments_lexer": "ipython3",
   "version": "3.10.18"
  }
 },
 "nbformat": 4,
 "nbformat_minor": 5
}
