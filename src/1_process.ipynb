{
 "cells": [
  {
   "cell_type": "code",
   "execution_count": 118,
   "id": "fd8bc6a7",
   "metadata": {},
   "outputs": [],
   "source": [
    "import pandas as pd\n",
    "import shutil\n",
    "import zipfile\n",
    "import os\n",
    "\n",
    "from pathlib import Path\n",
    "from collections import defaultdict"
   ]
  },
  {
   "cell_type": "code",
   "execution_count": 119,
   "id": "6b38f39a",
   "metadata": {},
   "outputs": [],
   "source": [
    "types = {\n",
    "    0: \"Bass\",\n",
    "    1: \"Brass\",\n",
    "    2: \"Keys\",\n",
    "    3: \"Lead\",\n",
    "    4: \"Organ\",\n",
    "    5: \"Pad\",\n",
    "    6: \"Percussion\",\n",
    "    7: \"Sequence\",\n",
    "    8: \"SFX\",\n",
    "    9: \"Strings\"\n",
    "}"
   ]
  },
  {
   "cell_type": "code",
   "execution_count": 120,
   "id": "24405721",
   "metadata": {},
   "outputs": [],
   "source": [
    "types_short = {\n",
    "    0: \"BS\",\n",
    "    1: \"BR\",\n",
    "    2: \"KS\",\n",
    "    3: \"LD\",\n",
    "    4: \"OR\",\n",
    "    5: \"PD\",\n",
    "    6: \"DR\",\n",
    "    7: \"SQ\",\n",
    "    8: \"FX\",\n",
    "    9: \"ST\"\n",
    "}"
   ]
  },
  {
   "cell_type": "code",
   "execution_count": 121,
   "id": "0bcead74",
   "metadata": {},
   "outputs": [],
   "source": [
    "clean_dir     = Path(\"../patches/clean\")\n",
    "generated_dir = Path(\"../patches/generated\")\n",
    "temp_dir      = Path(\"../patches/temp\")\n",
    "\n",
    "generated_dir.mkdir(parents=True, exist_ok=True)"
   ]
  },
  {
   "cell_type": "code",
   "execution_count": 122,
   "id": "ee9cd1f2",
   "metadata": {},
   "outputs": [],
   "source": [
    "patches = []\n",
    "\n",
    "for clean_file in clean_dir.glob(\"*.csv\"):\n",
    "\n",
    "    patch = pd.read_csv(clean_file)\n",
    "    patch[\"bank_name\"] = clean_file.stem\n",
    "\n",
    "    patch = patch[[\n",
    "        \"bank_name\",\n",
    "        \"patch_name\",\n",
    "        \"patch_type\",\n",
    "        \"path\"\n",
    "    ]]\n",
    "\n",
    "    patch = patch[patch[\"patch_name\"] != \"Init\"]\n",
    "\n",
    "    patches.append(patch)"
   ]
  },
  {
   "cell_type": "code",
   "execution_count": 123,
   "id": "6b548343",
   "metadata": {},
   "outputs": [],
   "source": [
    "patches = pd.concat(patches)\n",
    "patches = patches.drop_duplicates(subset=[\"bank_name\", \"patch_name\", \"patch_type\"])\n",
    "patches = patches.reset_index(drop=True)"
   ]
  },
  {
   "cell_type": "code",
   "execution_count": 124,
   "id": "8c1d2a2d",
   "metadata": {},
   "outputs": [],
   "source": [
    "patches[\"patch_type_short\"]  = patches[\"patch_type\"].map(types_short)\n",
    "patches[\"patch_type\"]        = patches[\"patch_type\"].map(types)"
   ]
  },
  {
   "cell_type": "code",
   "execution_count": 125,
   "id": "77234f17",
   "metadata": {},
   "outputs": [],
   "source": [
    "paths_by_type = defaultdict(list)\n",
    "\n",
    "for _, row in patches.iterrows():\n",
    "    patch_type = row[\"patch_type\"]\n",
    "    patch_path = row[\"path\"]\n",
    "\n",
    "    src_path = temp_dir / patch_path\n",
    "    paths_by_type[patch_type].append(src_path)"
   ]
  },
  {
   "cell_type": "code",
   "execution_count": 126,
   "id": "dc182e3c",
   "metadata": {},
   "outputs": [],
   "source": [
    "for patch_type, paths in paths_by_type.items():\n",
    "    type_dir = generated_dir / patch_type\n",
    "    subfolder = type_dir / f\"01-{patch_type}-A\"\n",
    "    subfolder.mkdir(parents=True, exist_ok=True)\n",
    "\n",
    "    for i, src_path in enumerate(paths):\n",
    "        patch_num = i + 1\n",
    "        new_name = f\"01-{patch_type}-A{patch_num}.mbp\"\n",
    "        dst_path = subfolder / new_name\n",
    "        if src_path.exists():\n",
    "            shutil.copy(src_path, dst_path)"
   ]
  }
 ],
 "metadata": {
  "kernelspec": {
   "display_name": ".venv",
   "language": "python",
   "name": "python3"
  },
  "language_info": {
   "codemirror_mode": {
    "name": "ipython",
    "version": 3
   },
   "file_extension": ".py",
   "mimetype": "text/x-python",
   "name": "python",
   "nbconvert_exporter": "python",
   "pygments_lexer": "ipython3",
   "version": "3.10.18"
  }
 },
 "nbformat": 4,
 "nbformat_minor": 5
}
