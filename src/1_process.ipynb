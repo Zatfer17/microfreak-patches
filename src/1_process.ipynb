{
 "cells": [
  {
   "cell_type": "code",
   "execution_count": 29,
   "id": "fd8bc6a7",
   "metadata": {},
   "outputs": [],
   "source": [
    "import pandas as pd\n",
    "\n",
    "from pathlib import Path"
   ]
  },
  {
   "cell_type": "code",
   "execution_count": 30,
   "id": "6b38f39a",
   "metadata": {},
   "outputs": [],
   "source": [
    "types = {\n",
    "    0: \"Bass\",\n",
    "    1: \"Brass\",\n",
    "    2: \"Keys\",\n",
    "    3: \"Lead\",\n",
    "    4: \"Organ\",\n",
    "    5: \"Pad\",\n",
    "    6: \"Percussion\",\n",
    "    7: \"Sequence\",\n",
    "    8: \"SFX\",\n",
    "    9: \"Strings\"\n",
    "}"
   ]
  },
  {
   "cell_type": "code",
   "execution_count": 31,
   "id": "0bcead74",
   "metadata": {},
   "outputs": [],
   "source": [
    "clean_dir = Path(\"../patches/clean\")"
   ]
  },
  {
   "cell_type": "code",
   "execution_count": 32,
   "id": "ee9cd1f2",
   "metadata": {},
   "outputs": [],
   "source": [
    "patches = []\n",
    "\n",
    "for clean_file in clean_dir.glob(\"*.csv\"):\n",
    "\n",
    "    patch = pd.read_csv(clean_file)\n",
    "    patch[\"bank_name\"] = clean_file.stem\n",
    "\n",
    "    patch = patch[[\n",
    "        \"bank_name\",\n",
    "        \"patch_name\",\n",
    "        \"patch_type\"\n",
    "    ]]\n",
    "\n",
    "    patch = patch[patch[\"patch_name\"] != \"Init\"]\n",
    "\n",
    "    patches.append(patch)"
   ]
  },
  {
   "cell_type": "code",
   "execution_count": 33,
   "id": "6b548343",
   "metadata": {},
   "outputs": [],
   "source": [
    "patches = pd.concat(patches)\n",
    "patches = patches.reset_index(drop=True)"
   ]
  },
  {
   "cell_type": "code",
   "execution_count": 34,
   "id": "8c1d2a2d",
   "metadata": {},
   "outputs": [],
   "source": [
    "patches[\"patch_type\"] = patches[\"patch_type\"].map(types)"
   ]
  },
  {
   "cell_type": "code",
   "execution_count": 35,
   "id": "41a7bcf1",
   "metadata": {},
   "outputs": [
    {
     "data": {
      "text/html": [
       "<div>\n",
       "<style scoped>\n",
       "    .dataframe tbody tr th:only-of-type {\n",
       "        vertical-align: middle;\n",
       "    }\n",
       "\n",
       "    .dataframe tbody tr th {\n",
       "        vertical-align: top;\n",
       "    }\n",
       "\n",
       "    .dataframe thead th {\n",
       "        text-align: right;\n",
       "    }\n",
       "</style>\n",
       "<table border=\"1\" class=\"dataframe\">\n",
       "  <thead>\n",
       "    <tr style=\"text-align: right;\">\n",
       "      <th></th>\n",
       "      <th>bank_name</th>\n",
       "      <th>patch_name</th>\n",
       "      <th>patch_type</th>\n",
       "    </tr>\n",
       "  </thead>\n",
       "  <tbody>\n",
       "    <tr>\n",
       "      <th>1865</th>\n",
       "      <td>factory_4</td>\n",
       "      <td>Ballast</td>\n",
       "      <td>Sequence</td>\n",
       "    </tr>\n",
       "    <tr>\n",
       "      <th>1866</th>\n",
       "      <td>factory_4</td>\n",
       "      <td>Digi Express</td>\n",
       "      <td>Bass</td>\n",
       "    </tr>\n",
       "    <tr>\n",
       "      <th>1867</th>\n",
       "      <td>factory_4</td>\n",
       "      <td>Black Forest</td>\n",
       "      <td>Sequence</td>\n",
       "    </tr>\n",
       "    <tr>\n",
       "      <th>1868</th>\n",
       "      <td>factory_4</td>\n",
       "      <td>O</td>\n",
       "      <td>SFX</td>\n",
       "    </tr>\n",
       "    <tr>\n",
       "      <th>1869</th>\n",
       "      <td>factory_4</td>\n",
       "      <td>Future Bits</td>\n",
       "      <td>Keys</td>\n",
       "    </tr>\n",
       "    <tr>\n",
       "      <th>...</th>\n",
       "      <td>...</td>\n",
       "      <td>...</td>\n",
       "      <td>...</td>\n",
       "    </tr>\n",
       "    <tr>\n",
       "      <th>1924</th>\n",
       "      <td>factory_4</td>\n",
       "      <td>Tremendous Way</td>\n",
       "      <td>Keys</td>\n",
       "    </tr>\n",
       "    <tr>\n",
       "      <th>1925</th>\n",
       "      <td>factory_4</td>\n",
       "      <td>Mod Cello</td>\n",
       "      <td>Strings</td>\n",
       "    </tr>\n",
       "    <tr>\n",
       "      <th>1926</th>\n",
       "      <td>factory_4</td>\n",
       "      <td>Gritty Volts</td>\n",
       "      <td>Lead</td>\n",
       "    </tr>\n",
       "    <tr>\n",
       "      <th>1927</th>\n",
       "      <td>factory_4</td>\n",
       "      <td>Sampler Dirt</td>\n",
       "      <td>Keys</td>\n",
       "    </tr>\n",
       "    <tr>\n",
       "      <th>1928</th>\n",
       "      <td>factory_4</td>\n",
       "      <td>Happy Vibes</td>\n",
       "      <td>Keys</td>\n",
       "    </tr>\n",
       "  </tbody>\n",
       "</table>\n",
       "<p>64 rows × 3 columns</p>\n",
       "</div>"
      ],
      "text/plain": [
       "      bank_name      patch_name patch_type\n",
       "1865  factory_4         Ballast   Sequence\n",
       "1866  factory_4    Digi Express       Bass\n",
       "1867  factory_4    Black Forest   Sequence\n",
       "1868  factory_4               O        SFX\n",
       "1869  factory_4     Future Bits       Keys\n",
       "...         ...             ...        ...\n",
       "1924  factory_4  Tremendous Way       Keys\n",
       "1925  factory_4       Mod Cello    Strings\n",
       "1926  factory_4    Gritty Volts       Lead\n",
       "1927  factory_4    Sampler Dirt       Keys\n",
       "1928  factory_4     Happy Vibes       Keys\n",
       "\n",
       "[64 rows x 3 columns]"
      ]
     },
     "execution_count": 35,
     "metadata": {},
     "output_type": "execute_result"
    }
   ],
   "source": [
    "patches[patches.bank_name == \"factory_4\"]"
   ]
  },
  {
   "cell_type": "code",
   "execution_count": 36,
   "id": "34529a8c",
   "metadata": {},
   "outputs": [
    {
     "data": {
      "text/plain": [
       "patch_type\n",
       "Pad           698\n",
       "Bass          682\n",
       "Sequence      273\n",
       "Keys          207\n",
       "Lead          156\n",
       "SFX           122\n",
       "Percussion    102\n",
       "Strings        29\n",
       "Brass          19\n",
       "Organ          16\n",
       "Name: count, dtype: int64"
      ]
     },
     "execution_count": 36,
     "metadata": {},
     "output_type": "execute_result"
    }
   ],
   "source": [
    "patches.patch_type.value_counts()"
   ]
  }
 ],
 "metadata": {
  "kernelspec": {
   "display_name": ".venv",
   "language": "python",
   "name": "python3"
  },
  "language_info": {
   "codemirror_mode": {
    "name": "ipython",
    "version": 3
   },
   "file_extension": ".py",
   "mimetype": "text/x-python",
   "name": "python",
   "nbconvert_exporter": "python",
   "pygments_lexer": "ipython3",
   "version": "3.12.9"
  }
 },
 "nbformat": 4,
 "nbformat_minor": 5
}
